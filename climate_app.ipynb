See the app.py file for climate api scripts
