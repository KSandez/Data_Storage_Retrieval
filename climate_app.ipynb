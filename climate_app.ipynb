{
 "cells": [
  {
   "cell_type": "code",
   "execution_count": null,
   "metadata": {},
   "outputs": [],
   "source": [
    "from datetime import datetime as dt, timedelta\n",
    "import numpy as mean\n",
    "import pandas as pd\n",
    "\n",
    "import sqlalchemy\n",
    "from sqlalchemy.ext.automap import automap_base\n",
    "from sqlalchemy.orm import Session\n",
    "from sqlalchemy import create_engine\n",
    "\n",
    "from flask import Flask, jsonify"
   ]
  },
  {
   "cell_type": "code",
   "execution_count": null,
   "metadata": {},
   "outputs": [],
   "source": [
    "# Database Setup\n",
    "\n",
    "engine = create_engine(\"sqlite:///hawaii.sqlite\")\n",
    "conn = engine.connect()\n",
    "\n",
    "station_df = pd.DataFrame(conn.execute('SELECT station, name, latitude, longitude, elevation FROM stations').fetchall())\n",
    "station_df.columns=['stations','name', 'latitude', 'longitude', 'elevation']\n",
    "station_df\n",
    "\n",
    "prcp_df = pd.DataFrame(\n",
    "   conn.execute('SELECT date, station, prcp \\\n",
    "                FROM measurements \\\n",
    "                WHERE date >= \\'2016-08-23\\' \\\n",
    "                GROUP BY date, station').fetchall()\n",
    ")\n",
    "prcp_df.columns = ['date', 'station', 'prcp']\n",
    "prcp_df\n",
    "\n",
    "temperature_data = pd.read_sql('measurements', conn, parse_dates={'date': {'format': '%Y-%m-%d'}}, columns=['date', 'tobs'])\n",
    "temperature_data.head()"
   ]
  },
  {
   "cell_type": "code",
   "execution_count": null,
   "metadata": {},
   "outputs": [],
   "source": [
    "Base = automap_base()\n",
    "# reflect the tables\n",
    "Base.prepare(engine, reflect=True)\n",
    "Base.classes.keys()"
   ]
  },
  {
   "cell_type": "code",
   "execution_count": null,
   "metadata": {},
   "outputs": [],
   "source": [
    "Stations = Base.classes.stations\n",
    "Measurements = Base.classes.measurements"
   ]
  },
  {
   "cell_type": "code",
   "execution_count": null,
   "metadata": {},
   "outputs": [],
   "source": [
    "inspector = inspect(engine)\n",
    "inspector.get_table_names()"
   ]
  },
  {
   "cell_type": "code",
   "execution_count": null,
   "metadata": {},
   "outputs": [],
   "source": [
    "columns = inspector.get_columns('stations')\n",
    "for c in columns:\n",
    "    print(c['name'], c[\"type\"])"
   ]
  },
  {
   "cell_type": "code",
   "execution_count": null,
   "metadata": {},
   "outputs": [],
   "source": [
    "session = Session(engine)"
   ]
  },
  {
   "cell_type": "code",
   "execution_count": null,
   "metadata": {},
   "outputs": [],
   "source": [
    "# Flask Setup\n",
    "\n",
    "# 0. Create app\n",
    "app = Flask(__name__)"
   ]
  },
  {
   "cell_type": "code",
   "execution_count": null,
   "metadata": {},
   "outputs": [],
   "source": [
    "# Flask Routes\n",
    "\n",
    "# 0. Initialize home page\n",
    "@app.route('/api/v1.0/home')\n",
    "def Home():\n",
    "    return (\n",
    "        f\"Welcome to Hawaii Temperatures API!<br/>\"\n",
    "        f\"<br/>\"\n",
    "        f\"Available Routes:<br/>\"\n",
    "        f\"<br/>\"\n",
    "        f\"/api/v1.0/precipitation<br/>\"\n",
    "        f\"/api/v1.0/stations<br/>\"\n",
    "        f\"/api/v1.0/tobs<br/>\"\n",
    "        f\"/api/v1.0/start<br/>\"\n",
    "        f\"/api/v1.0/start/end\"\n",
    "        )"
   ]
  },
  {
   "cell_type": "code",
   "execution_count": null,
   "metadata": {},
   "outputs": [],
   "source": [
    "# 1. precipitation\n",
    "@app.route('/api/v1.0/precipitation')\n",
    "def Precipitation():\n",
    "    precipitation = prcp_df[['date', 'prcp']]\n",
    "    precipitation_table = []\n",
    "    for i in range(precipitation.shape[0]):\n",
    "        dic = {}\n",
    "        dic['date'] = precipitation.date[i]\n",
    "        dic['prcp'] = int(precipitation.prcp[i])\n",
    "        precipitation_table.append(dic)\n",
    "    return jsonify(precipitation_table)"
   ]
  },
  {
   "cell_type": "code",
   "execution_count": null,
   "metadata": {},
   "outputs": [],
   "source": [
    "# 2. Station\n",
    "\n",
    "@app.route('/api/v1.0/stations')\n",
    "def Station():\n",
    "    results = session.query(Stations).all()\n",
    "    \n",
    "    stations = [entry.station for entry in results]\n",
    "    names = [entry.name for entry in results]\n",
    "    latitudes = [entry.latitude for entry in results]\n",
    "    longitudes = [entry.longitude for entry in results]\n",
    "    elevations = [entry.elevation for entry in results]\n",
    "    \n",
    "    response = [{\"Station\": statin,\n",
    "                 \"Name\": name,\n",
    "                 \"Latitude\": lat,\n",
    "                 \"Longitude\": lon,\n",
    "                 \"Elevation\": elev}\n",
    "        \n",
    "                for station, name, lat, lon, elev\n",
    "                in zip(stations, names, latitudes, longitudes, elevations)]\n",
    "\n",
    "    return jsonify(response)"
   ]
  },
  {
   "cell_type": "code",
   "execution_count": null,
   "metadata": {},
   "outputs": [],
   "source": [
    "# 3. Tobs\n",
    "\n",
    "@app.route('/api/v1.0/tobs')\n",
    "def Tobs():\n",
    "    \n",
    "    final_date_str = session.query(Measurements).order_by(Measurements.date.desc()).first().date\n",
    "    final_date = dt.strptime(final_date_str, \"%Y-%m-%d\")\n",
    "    initial_date = dt.strptime(f\"{final_date.year - 1}-{final_date.month}-{final_date.day}\", \"%Y-%m-%d\")\n",
    "    \n",
    "    query = session.query(Measurements).order_by(Measurements.date) \\\n",
    "                       .filter(Measurements.date > initial_date).all()\n",
    "    \n",
    "    dates = [entry.date for entry in query]\n",
    "    tobs = [entry.tobs for entry in query]\n",
    "    \n",
    "    response = [{\"Date\": date,\n",
    "                 \"Temperature\": temp}\n",
    "    \n",
    "                for date, temp\n",
    "                in zip(dates, tobs)]\n",
    "    \n",
    "    return jsonify(response)"
   ]
  },
  {
   "cell_type": "code",
   "execution_count": null,
   "metadata": {},
   "outputs": [],
   "source": [
    "# 4. Temperature\n",
    "\n",
    "@app.route('/api/v1.0/<start>')\n",
    "def tobs_start(start):\n",
    "    def calc_temps(start_date):\n",
    "        df = temperature_data[temperature_data.date >= start_date]\n",
    "        dic = {}\n",
    "        dic['min'] = df.tobs.min()\n",
    "        dic['avg'] = df.tobs.mean()\n",
    "        dic['max'] = df.tobs.max()\n",
    "        return(dic)\n",
    "    temps = calc_temps(start)\n",
    "    results = {}\n",
    "    results['TMIN'] = float(temps['min'])\n",
    "    results['TAVG'] = float(temps['avg'])\n",
    "    results['TMAX'] = float(temps['max'])\n",
    "    \n",
    "    return jsonify(results)"
   ]
  },
  {
   "cell_type": "code",
   "execution_count": null,
   "metadata": {},
   "outputs": [],
   "source": [
    "# Date entry must be in YYYY-MM-DD, YYYY-MM-DD in order to work\n",
    "\n",
    "@app.route('/api/v1.0/<start>/<end>')\n",
    "def show_start_end(start, end):\n",
    "    def calc_temps(start_date, end_date):\n",
    "        df = temperature_data[(temperature_data.date >= start_date) & (temperature_data.date <= end_date)]\n",
    "        dic = {}\n",
    "        dic['min'] = df.tobs.min()\n",
    "        dic['avg'] = df.tobs.mean()\n",
    "        dic['max'] = df.tobs.max()\n",
    "        return(dic)\n",
    "    temps = calc_temps(start, end)\n",
    "    results = {}\n",
    "    results['TMIN'] = float(temps['min'])\n",
    "    results['TAVG'] = float(temps['avg'])\n",
    "    results['TMAX'] = float(temps['max'])\n",
    "    return jsonify(results)"
   ]
  },
  {
   "cell_type": "code",
   "execution_count": null,
   "metadata": {},
   "outputs": [],
   "source": [
    "# 5. Run App\n",
    "if __name__ == '__main__':\n",
    "    app.run(port = 5000, debug=True)"
   ]
  }
 ],
 "metadata": {
  "kernelspec": {
   "display_name": "Python 3",
   "language": "python",
   "name": "python3"
  },
  "language_info": {
   "codemirror_mode": {
    "name": "ipython",
    "version": 3
   },
   "file_extension": ".py",
   "mimetype": "text/x-python",
   "name": "python",
   "nbconvert_exporter": "python",
   "pygments_lexer": "ipython3",
   "version": "3.6.4"
  }
 },
 "nbformat": 4,
 "nbformat_minor": 2
}
